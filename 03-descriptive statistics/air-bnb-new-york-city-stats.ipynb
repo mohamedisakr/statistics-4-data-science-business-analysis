{
 "cells": [
  {
   "cell_type": "code",
   "execution_count": 1,
   "id": "3eea9596",
   "metadata": {},
   "outputs": [],
   "source": [
    "import pandas as pd\n",
    "import numpy as np"
   ]
  },
  {
   "cell_type": "code",
   "execution_count": 2,
   "id": "f3ecedc8",
   "metadata": {},
   "outputs": [
    {
     "data": {
      "text/html": [
       "<div>\n",
       "<style scoped>\n",
       "    .dataframe tbody tr th:only-of-type {\n",
       "        vertical-align: middle;\n",
       "    }\n",
       "\n",
       "    .dataframe tbody tr th {\n",
       "        vertical-align: top;\n",
       "    }\n",
       "\n",
       "    .dataframe thead th {\n",
       "        text-align: right;\n",
       "    }\n",
       "</style>\n",
       "<table border=\"1\" class=\"dataframe\">\n",
       "  <thead>\n",
       "    <tr style=\"text-align: right;\">\n",
       "      <th></th>\n",
       "      <th>price</th>\n",
       "    </tr>\n",
       "  </thead>\n",
       "  <tbody>\n",
       "    <tr>\n",
       "      <th>count</th>\n",
       "      <td>48895.000000</td>\n",
       "    </tr>\n",
       "    <tr>\n",
       "      <th>mean</th>\n",
       "      <td>112.781327</td>\n",
       "    </tr>\n",
       "    <tr>\n",
       "      <th>std</th>\n",
       "      <td>131.622289</td>\n",
       "    </tr>\n",
       "    <tr>\n",
       "      <th>min</th>\n",
       "      <td>0.000000</td>\n",
       "    </tr>\n",
       "    <tr>\n",
       "      <th>25%</th>\n",
       "      <td>0.000000</td>\n",
       "    </tr>\n",
       "    <tr>\n",
       "      <th>50%</th>\n",
       "      <td>45.000000</td>\n",
       "    </tr>\n",
       "    <tr>\n",
       "      <th>75%</th>\n",
       "      <td>227.000000</td>\n",
       "    </tr>\n",
       "    <tr>\n",
       "      <th>max</th>\n",
       "      <td>365.000000</td>\n",
       "    </tr>\n",
       "  </tbody>\n",
       "</table>\n",
       "</div>"
      ],
      "text/plain": [
       "              price\n",
       "count  48895.000000\n",
       "mean     112.781327\n",
       "std      131.622289\n",
       "min        0.000000\n",
       "25%        0.000000\n",
       "50%       45.000000\n",
       "75%      227.000000\n",
       "max      365.000000"
      ]
     },
     "execution_count": 2,
     "metadata": {},
     "output_type": "execute_result"
    }
   ],
   "source": [
    "df = pd.read_csv(\"AB_NYC_2019.csv\", names=[\"price\"], skiprows=[0])\n",
    "df.describe()"
   ]
  },
  {
   "cell_type": "code",
   "execution_count": 14,
   "id": "af9a673b",
   "metadata": {},
   "outputs": [
    {
     "data": {
      "text/plain": [
       "(48895, 1)"
      ]
     },
     "execution_count": 14,
     "metadata": {},
     "output_type": "execute_result"
    }
   ],
   "source": [
    "df.shape"
   ]
  },
  {
   "cell_type": "code",
   "execution_count": 15,
   "id": "ada30bb7",
   "metadata": {},
   "outputs": [],
   "source": [
    "# percentile_01 = df.income.quantile(0.01)\n",
    "# percentile_01"
   ]
  },
  {
   "cell_type": "code",
   "execution_count": 26,
   "id": "9e119929",
   "metadata": {},
   "outputs": [
    {
     "data": {
      "text/plain": [
       "17533"
      ]
     },
     "execution_count": 26,
     "metadata": {},
     "output_type": "execute_result"
    }
   ],
   "source": [
    "cnt = len(df[df['price'] == 0])\n",
    "cnt"
   ]
  },
  {
   "cell_type": "code",
   "execution_count": 28,
   "id": "54aafb05",
   "metadata": {},
   "outputs": [
    {
     "data": {
      "text/plain": [
       "35.858472236424994"
      ]
     },
     "execution_count": 28,
     "metadata": {},
     "output_type": "execute_result"
    }
   ],
   "source": [
    "(17533 / 48895) * 100"
   ]
  },
  {
   "cell_type": "code",
   "execution_count": 33,
   "id": "5c80cd32",
   "metadata": {},
   "outputs": [
    {
     "data": {
      "text/plain": [
       "0    0\n",
       "Name: price, dtype: int64"
      ]
     },
     "execution_count": 33,
     "metadata": {},
     "output_type": "execute_result"
    }
   ],
   "source": [
    "mode_val = df.price.mode()\n",
    "mode_val"
   ]
  },
  {
   "cell_type": "code",
   "execution_count": 7,
   "id": "4a575b22",
   "metadata": {},
   "outputs": [
    {
     "data": {
      "text/plain": [
       "45.0"
      ]
     },
     "execution_count": 7,
     "metadata": {},
     "output_type": "execute_result"
    }
   ],
   "source": [
    "median_val = df.price.median()\n",
    "median_val"
   ]
  },
  {
   "cell_type": "code",
   "execution_count": 6,
   "id": "a2633950",
   "metadata": {},
   "outputs": [
    {
     "data": {
      "text/plain": [
       "0"
      ]
     },
     "execution_count": 6,
     "metadata": {},
     "output_type": "execute_result"
    }
   ],
   "source": [
    "df.price.quantile(0.25, interpolation=\"higher\")"
   ]
  },
  {
   "cell_type": "code",
   "execution_count": 8,
   "id": "4f54e046",
   "metadata": {},
   "outputs": [
    {
     "data": {
      "text/plain": [
       "0.0"
      ]
     },
     "execution_count": 8,
     "metadata": {},
     "output_type": "execute_result"
    }
   ],
   "source": [
    "percentile_25 = df.price.quantile(0.25)\n",
    "percentile_25"
   ]
  },
  {
   "cell_type": "code",
   "execution_count": 9,
   "id": "93f9f06e",
   "metadata": {},
   "outputs": [
    {
     "data": {
      "text/html": [
       "<div>\n",
       "<style scoped>\n",
       "    .dataframe tbody tr th:only-of-type {\n",
       "        vertical-align: middle;\n",
       "    }\n",
       "\n",
       "    .dataframe tbody tr th {\n",
       "        vertical-align: top;\n",
       "    }\n",
       "\n",
       "    .dataframe thead th {\n",
       "        text-align: right;\n",
       "    }\n",
       "</style>\n",
       "<table border=\"1\" class=\"dataframe\">\n",
       "  <thead>\n",
       "    <tr style=\"text-align: right;\">\n",
       "      <th></th>\n",
       "      <th></th>\n",
       "      <th></th>\n",
       "      <th></th>\n",
       "      <th></th>\n",
       "      <th></th>\n",
       "      <th></th>\n",
       "      <th></th>\n",
       "      <th></th>\n",
       "      <th></th>\n",
       "      <th></th>\n",
       "      <th></th>\n",
       "      <th></th>\n",
       "      <th></th>\n",
       "      <th></th>\n",
       "      <th>price</th>\n",
       "    </tr>\n",
       "  </thead>\n",
       "  <tbody>\n",
       "    <tr>\n",
       "      <th>2539</th>\n",
       "      <th>Clean &amp; quiet apt home by the park</th>\n",
       "      <th>2787</th>\n",
       "      <th>John</th>\n",
       "      <th>Brooklyn</th>\n",
       "      <th>Kensington</th>\n",
       "      <th>40.64749</th>\n",
       "      <th>-73.97237</th>\n",
       "      <th>Private room</th>\n",
       "      <th>149</th>\n",
       "      <th>1</th>\n",
       "      <th>9</th>\n",
       "      <th>2018-10-19</th>\n",
       "      <th>0.21</th>\n",
       "      <th>6</th>\n",
       "      <td>365</td>\n",
       "    </tr>\n",
       "    <tr>\n",
       "      <th>2595</th>\n",
       "      <th>Skylit Midtown Castle</th>\n",
       "      <th>2845</th>\n",
       "      <th>Jennifer</th>\n",
       "      <th>Manhattan</th>\n",
       "      <th>Midtown</th>\n",
       "      <th>40.75362</th>\n",
       "      <th>-73.98377</th>\n",
       "      <th>Entire home/apt</th>\n",
       "      <th>225</th>\n",
       "      <th>1</th>\n",
       "      <th>45</th>\n",
       "      <th>2019-05-21</th>\n",
       "      <th>0.38</th>\n",
       "      <th>2</th>\n",
       "      <td>355</td>\n",
       "    </tr>\n",
       "    <tr>\n",
       "      <th>3647</th>\n",
       "      <th>THE VILLAGE OF HARLEM....NEW YORK !</th>\n",
       "      <th>4632</th>\n",
       "      <th>Elisabeth</th>\n",
       "      <th>Manhattan</th>\n",
       "      <th>Harlem</th>\n",
       "      <th>40.80902</th>\n",
       "      <th>-73.94190</th>\n",
       "      <th>Private room</th>\n",
       "      <th>150</th>\n",
       "      <th>3</th>\n",
       "      <th>0</th>\n",
       "      <th>NaN</th>\n",
       "      <th>NaN</th>\n",
       "      <th>1</th>\n",
       "      <td>365</td>\n",
       "    </tr>\n",
       "    <tr>\n",
       "      <th>3831</th>\n",
       "      <th>Cozy Entire Floor of Brownstone</th>\n",
       "      <th>4869</th>\n",
       "      <th>LisaRoxanne</th>\n",
       "      <th>Brooklyn</th>\n",
       "      <th>Clinton Hill</th>\n",
       "      <th>40.68514</th>\n",
       "      <th>-73.95976</th>\n",
       "      <th>Entire home/apt</th>\n",
       "      <th>89</th>\n",
       "      <th>1</th>\n",
       "      <th>270</th>\n",
       "      <th>2019-07-05</th>\n",
       "      <th>4.64</th>\n",
       "      <th>1</th>\n",
       "      <td>194</td>\n",
       "    </tr>\n",
       "    <tr>\n",
       "      <th>5099</th>\n",
       "      <th>Large Cozy 1 BR Apartment In Midtown East</th>\n",
       "      <th>7322</th>\n",
       "      <th>Chris</th>\n",
       "      <th>Manhattan</th>\n",
       "      <th>Murray Hill</th>\n",
       "      <th>40.74767</th>\n",
       "      <th>-73.97500</th>\n",
       "      <th>Entire home/apt</th>\n",
       "      <th>200</th>\n",
       "      <th>3</th>\n",
       "      <th>74</th>\n",
       "      <th>2019-06-22</th>\n",
       "      <th>0.59</th>\n",
       "      <th>1</th>\n",
       "      <td>129</td>\n",
       "    </tr>\n",
       "    <tr>\n",
       "      <th>...</th>\n",
       "      <th>...</th>\n",
       "      <th>...</th>\n",
       "      <th>...</th>\n",
       "      <th>...</th>\n",
       "      <th>...</th>\n",
       "      <th>...</th>\n",
       "      <th>...</th>\n",
       "      <th>...</th>\n",
       "      <th>...</th>\n",
       "      <th>...</th>\n",
       "      <th>...</th>\n",
       "      <th>...</th>\n",
       "      <th>...</th>\n",
       "      <th>...</th>\n",
       "      <td>...</td>\n",
       "    </tr>\n",
       "    <tr>\n",
       "      <th>36484665</th>\n",
       "      <th>Charming one bedroom - newly renovated rowhouse</th>\n",
       "      <th>8232441</th>\n",
       "      <th>Sabrina</th>\n",
       "      <th>Brooklyn</th>\n",
       "      <th>Bedford-Stuyvesant</th>\n",
       "      <th>40.67853</th>\n",
       "      <th>-73.94995</th>\n",
       "      <th>Private room</th>\n",
       "      <th>70</th>\n",
       "      <th>2</th>\n",
       "      <th>0</th>\n",
       "      <th>NaN</th>\n",
       "      <th>NaN</th>\n",
       "      <th>2</th>\n",
       "      <td>9</td>\n",
       "    </tr>\n",
       "    <tr>\n",
       "      <th>36485057</th>\n",
       "      <th>Affordable room in Bushwick/East Williamsburg</th>\n",
       "      <th>6570630</th>\n",
       "      <th>Marisol</th>\n",
       "      <th>Brooklyn</th>\n",
       "      <th>Bushwick</th>\n",
       "      <th>40.70184</th>\n",
       "      <th>-73.93317</th>\n",
       "      <th>Private room</th>\n",
       "      <th>40</th>\n",
       "      <th>4</th>\n",
       "      <th>0</th>\n",
       "      <th>NaN</th>\n",
       "      <th>NaN</th>\n",
       "      <th>2</th>\n",
       "      <td>36</td>\n",
       "    </tr>\n",
       "    <tr>\n",
       "      <th>36485431</th>\n",
       "      <th>Sunny Studio at Historical Neighborhood</th>\n",
       "      <th>23492952</th>\n",
       "      <th>Ilgar &amp; Aysel</th>\n",
       "      <th>Manhattan</th>\n",
       "      <th>Harlem</th>\n",
       "      <th>40.81475</th>\n",
       "      <th>-73.94867</th>\n",
       "      <th>Entire home/apt</th>\n",
       "      <th>115</th>\n",
       "      <th>10</th>\n",
       "      <th>0</th>\n",
       "      <th>NaN</th>\n",
       "      <th>NaN</th>\n",
       "      <th>1</th>\n",
       "      <td>27</td>\n",
       "    </tr>\n",
       "    <tr>\n",
       "      <th>36485609</th>\n",
       "      <th>43rd St. Time Square-cozy single bed</th>\n",
       "      <th>30985759</th>\n",
       "      <th>Taz</th>\n",
       "      <th>Manhattan</th>\n",
       "      <th>Hell's Kitchen</th>\n",
       "      <th>40.75751</th>\n",
       "      <th>-73.99112</th>\n",
       "      <th>Shared room</th>\n",
       "      <th>55</th>\n",
       "      <th>1</th>\n",
       "      <th>0</th>\n",
       "      <th>NaN</th>\n",
       "      <th>NaN</th>\n",
       "      <th>6</th>\n",
       "      <td>2</td>\n",
       "    </tr>\n",
       "    <tr>\n",
       "      <th>36487245</th>\n",
       "      <th>Trendy duplex in the very heart of Hell's Kitchen</th>\n",
       "      <th>68119814</th>\n",
       "      <th>Christophe</th>\n",
       "      <th>Manhattan</th>\n",
       "      <th>Hell's Kitchen</th>\n",
       "      <th>40.76404</th>\n",
       "      <th>-73.98933</th>\n",
       "      <th>Private room</th>\n",
       "      <th>90</th>\n",
       "      <th>7</th>\n",
       "      <th>0</th>\n",
       "      <th>NaN</th>\n",
       "      <th>NaN</th>\n",
       "      <th>1</th>\n",
       "      <td>23</td>\n",
       "    </tr>\n",
       "  </tbody>\n",
       "</table>\n",
       "<p>31362 rows × 1 columns</p>\n",
       "</div>"
      ],
      "text/plain": [
       "                                                                                                                                                                                price\n",
       "2539     Clean & quiet apt home by the park                2787     John          Brooklyn  Kensington         40.64749 -73.97237 Private room    149 1  9   2018-10-19 0.21 6    365\n",
       "2595     Skylit Midtown Castle                             2845     Jennifer      Manhattan Midtown            40.75362 -73.98377 Entire home/apt 225 1  45  2019-05-21 0.38 2    355\n",
       "3647     THE VILLAGE OF HARLEM....NEW YORK !               4632     Elisabeth     Manhattan Harlem             40.80902 -73.94190 Private room    150 3  0   NaN        NaN  1    365\n",
       "3831     Cozy Entire Floor of Brownstone                   4869     LisaRoxanne   Brooklyn  Clinton Hill       40.68514 -73.95976 Entire home/apt 89  1  270 2019-07-05 4.64 1    194\n",
       "5099     Large Cozy 1 BR Apartment In Midtown East         7322     Chris         Manhattan Murray Hill        40.74767 -73.97500 Entire home/apt 200 3  74  2019-06-22 0.59 1    129\n",
       "...                                                                                                                                                                               ...\n",
       "36484665 Charming one bedroom - newly renovated rowhouse   8232441  Sabrina       Brooklyn  Bedford-Stuyvesant 40.67853 -73.94995 Private room    70  2  0   NaN        NaN  2      9\n",
       "36485057 Affordable room in Bushwick/East Williamsburg     6570630  Marisol       Brooklyn  Bushwick           40.70184 -73.93317 Private room    40  4  0   NaN        NaN  2     36\n",
       "36485431 Sunny Studio at Historical Neighborhood           23492952 Ilgar & Aysel Manhattan Harlem             40.81475 -73.94867 Entire home/apt 115 10 0   NaN        NaN  1     27\n",
       "36485609 43rd St. Time Square-cozy single bed              30985759 Taz           Manhattan Hell's Kitchen     40.75751 -73.99112 Shared room     55  1  0   NaN        NaN  6      2\n",
       "36487245 Trendy duplex in the very heart of Hell's Kitchen 68119814 Christophe    Manhattan Hell's Kitchen     40.76404 -73.98933 Private room    90  7  0   NaN        NaN  1     23\n",
       "\n",
       "[31362 rows x 1 columns]"
      ]
     },
     "execution_count": 9,
     "metadata": {},
     "output_type": "execute_result"
    }
   ],
   "source": [
    "df_no_outliers = df[df.price > percentile_25]\n",
    "df_no_outliers"
   ]
  },
  {
   "cell_type": "code",
   "execution_count": 10,
   "id": "4f34ec5c",
   "metadata": {},
   "outputs": [
    {
     "data": {
      "text/html": [
       "<div>\n",
       "<style scoped>\n",
       "    .dataframe tbody tr th:only-of-type {\n",
       "        vertical-align: middle;\n",
       "    }\n",
       "\n",
       "    .dataframe tbody tr th {\n",
       "        vertical-align: top;\n",
       "    }\n",
       "\n",
       "    .dataframe thead th {\n",
       "        text-align: right;\n",
       "    }\n",
       "</style>\n",
       "<table border=\"1\" class=\"dataframe\">\n",
       "  <thead>\n",
       "    <tr style=\"text-align: right;\">\n",
       "      <th></th>\n",
       "      <th>price</th>\n",
       "    </tr>\n",
       "  </thead>\n",
       "  <tbody>\n",
       "    <tr>\n",
       "      <th>count</th>\n",
       "      <td>31362.000000</td>\n",
       "    </tr>\n",
       "    <tr>\n",
       "      <th>mean</th>\n",
       "      <td>175.831994</td>\n",
       "    </tr>\n",
       "    <tr>\n",
       "      <th>std</th>\n",
       "      <td>126.187636</td>\n",
       "    </tr>\n",
       "    <tr>\n",
       "      <th>min</th>\n",
       "      <td>1.000000</td>\n",
       "    </tr>\n",
       "    <tr>\n",
       "      <th>25%</th>\n",
       "      <td>55.000000</td>\n",
       "    </tr>\n",
       "    <tr>\n",
       "      <th>50%</th>\n",
       "      <td>168.000000</td>\n",
       "    </tr>\n",
       "    <tr>\n",
       "      <th>75%</th>\n",
       "      <td>305.000000</td>\n",
       "    </tr>\n",
       "    <tr>\n",
       "      <th>max</th>\n",
       "      <td>365.000000</td>\n",
       "    </tr>\n",
       "  </tbody>\n",
       "</table>\n",
       "</div>"
      ],
      "text/plain": [
       "              price\n",
       "count  31362.000000\n",
       "mean     175.831994\n",
       "std      126.187636\n",
       "min        1.000000\n",
       "25%       55.000000\n",
       "50%      168.000000\n",
       "75%      305.000000\n",
       "max      365.000000"
      ]
     },
     "execution_count": 10,
     "metadata": {},
     "output_type": "execute_result"
    }
   ],
   "source": [
    "df_no_outliers.describe()"
   ]
  },
  {
   "cell_type": "code",
   "execution_count": 17,
   "id": "1b8ce126",
   "metadata": {},
   "outputs": [
    {
     "data": {
      "text/plain": [
       "(0.0, 365.0)"
      ]
     },
     "execution_count": 17,
     "metadata": {},
     "output_type": "execute_result"
    }
   ],
   "source": [
    "# percentile upper & lower limits (threshold)\n",
    "min_threshold, max_threshold = df.price.quantile([0.01,0.999])\n",
    "min_threshold, max_threshold"
   ]
  },
  {
   "cell_type": "code",
   "execution_count": 14,
   "id": "908f18a3",
   "metadata": {},
   "outputs": [
    {
     "data": {
      "text/plain": [
       "(30067, 1)"
      ]
     },
     "execution_count": 14,
     "metadata": {},
     "output_type": "execute_result"
    }
   ],
   "source": [
    "df2 = df[(df.price > min_thresold) & (df.price < max_thresold)]\n",
    "df2.shape"
   ]
  },
  {
   "cell_type": "code",
   "execution_count": 15,
   "id": "8490da41",
   "metadata": {},
   "outputs": [
    {
     "data": {
      "text/html": [
       "<div>\n",
       "<style scoped>\n",
       "    .dataframe tbody tr th:only-of-type {\n",
       "        vertical-align: middle;\n",
       "    }\n",
       "\n",
       "    .dataframe tbody tr th {\n",
       "        vertical-align: top;\n",
       "    }\n",
       "\n",
       "    .dataframe thead th {\n",
       "        text-align: right;\n",
       "    }\n",
       "</style>\n",
       "<table border=\"1\" class=\"dataframe\">\n",
       "  <thead>\n",
       "    <tr style=\"text-align: right;\">\n",
       "      <th></th>\n",
       "      <th></th>\n",
       "      <th></th>\n",
       "      <th></th>\n",
       "      <th></th>\n",
       "      <th></th>\n",
       "      <th></th>\n",
       "      <th></th>\n",
       "      <th></th>\n",
       "      <th></th>\n",
       "      <th></th>\n",
       "      <th></th>\n",
       "      <th></th>\n",
       "      <th></th>\n",
       "      <th></th>\n",
       "      <th>price</th>\n",
       "    </tr>\n",
       "  </thead>\n",
       "  <tbody>\n",
       "    <tr>\n",
       "      <th>25813627</th>\n",
       "      <th>Serene Loft in Williamsburg - Master Bd</th>\n",
       "      <th>2423377</th>\n",
       "      <th>Bryan</th>\n",
       "      <th>Brooklyn</th>\n",
       "      <th>Williamsburg</th>\n",
       "      <th>40.71531</th>\n",
       "      <th>-73.96548</th>\n",
       "      <th>Private room</th>\n",
       "      <th>425</th>\n",
       "      <th>5</th>\n",
       "      <th>6</th>\n",
       "      <th>2019-05-15</th>\n",
       "      <th>0.66</th>\n",
       "      <th>1</th>\n",
       "      <td>156</td>\n",
       "    </tr>\n",
       "    <tr>\n",
       "      <th>3540722</th>\n",
       "      <th>Modern Bohemian Studio</th>\n",
       "      <th>17820464</th>\n",
       "      <th>Allison</th>\n",
       "      <th>Manhattan</th>\n",
       "      <th>East Village</th>\n",
       "      <th>40.72454</th>\n",
       "      <th>-73.97836</th>\n",
       "      <th>Entire home/apt</th>\n",
       "      <th>145</th>\n",
       "      <th>1</th>\n",
       "      <th>358</th>\n",
       "      <th>2018-12-03</th>\n",
       "      <th>5.96</th>\n",
       "      <th>1</th>\n",
       "      <td>3</td>\n",
       "    </tr>\n",
       "    <tr>\n",
       "      <th>32171100</th>\n",
       "      <th>Cozy Room in uptown Manhattan</th>\n",
       "      <th>241366980</th>\n",
       "      <th>Josefina</th>\n",
       "      <th>Manhattan</th>\n",
       "      <th>Washington Heights</th>\n",
       "      <th>40.83685</th>\n",
       "      <th>-73.94176</th>\n",
       "      <th>Private room</th>\n",
       "      <th>75</th>\n",
       "      <th>2</th>\n",
       "      <th>20</th>\n",
       "      <th>2019-07-02</th>\n",
       "      <th>4.88</th>\n",
       "      <th>1</th>\n",
       "      <td>223</td>\n",
       "    </tr>\n",
       "    <tr>\n",
       "      <th>26560264</th>\n",
       "      <th>❤️ Beautiful, Bright Room - Late Self Check-In  ❤️</th>\n",
       "      <th>191338162</th>\n",
       "      <th>William</th>\n",
       "      <th>Bronx</th>\n",
       "      <th>Allerton</th>\n",
       "      <th>40.86013</th>\n",
       "      <th>-73.86339</th>\n",
       "      <th>Private room</th>\n",
       "      <th>142</th>\n",
       "      <th>1</th>\n",
       "      <th>30</th>\n",
       "      <th>2019-07-02</th>\n",
       "      <th>2.56</th>\n",
       "      <th>5</th>\n",
       "      <td>57</td>\n",
       "    </tr>\n",
       "    <tr>\n",
       "      <th>27292944</th>\n",
       "      <th>Cozy duplex in Redhook, Brooklyn\\n(entire basement)</th>\n",
       "      <th>8593113</th>\n",
       "      <th>Salem</th>\n",
       "      <th>Brooklyn</th>\n",
       "      <th>Red Hook</th>\n",
       "      <th>40.67349</th>\n",
       "      <th>-74.00589</th>\n",
       "      <th>Private room</th>\n",
       "      <th>81</th>\n",
       "      <th>1</th>\n",
       "      <th>7</th>\n",
       "      <th>2019-05-17</th>\n",
       "      <th>0.66</th>\n",
       "      <th>2</th>\n",
       "      <td>48</td>\n",
       "    </tr>\n",
       "  </tbody>\n",
       "</table>\n",
       "</div>"
      ],
      "text/plain": [
       "                                                                                                                                                                            price\n",
       "25813627 Serene Loft in Williamsburg - Master Bd            2423377   Bryan    Brooklyn  Williamsburg       40.71531 -73.96548 Private room    425 5 6   2019-05-15 0.66 1    156\n",
       "3540722  Modern Bohemian Studio                             17820464  Allison  Manhattan East Village       40.72454 -73.97836 Entire home/apt 145 1 358 2018-12-03 5.96 1      3\n",
       "32171100 Cozy Room in uptown Manhattan                      241366980 Josefina Manhattan Washington Heights 40.83685 -73.94176 Private room    75  2 20  2019-07-02 4.88 1    223\n",
       "26560264 ❤️ Beautiful, Bright Room - Late Self Check-In  ❤️ 191338162 William  Bronx     Allerton           40.86013 -73.86339 Private room    142 1 30  2019-07-02 2.56 5     57\n",
       "27292944 Cozy duplex in Redhook, Brooklyn\\n(entire basem... 8593113   Salem    Brooklyn  Red Hook           40.67349 -74.00589 Private room    81  1 7   2019-05-17 0.66 2     48"
      ]
     },
     "execution_count": 15,
     "metadata": {},
     "output_type": "execute_result"
    }
   ],
   "source": [
    "df2.sample(5)"
   ]
  },
  {
   "cell_type": "code",
   "execution_count": 18,
   "id": "f71350e9",
   "metadata": {},
   "outputs": [
    {
     "data": {
      "text/plain": [
       "count    30067.000000\n",
       "mean       167.684438\n",
       "std        122.480505\n",
       "min          1.000000\n",
       "25%         52.000000\n",
       "50%        157.000000\n",
       "75%        287.000000\n",
       "max        364.000000\n",
       "Name: price, dtype: float64"
      ]
     },
     "execution_count": 18,
     "metadata": {},
     "output_type": "execute_result"
    }
   ],
   "source": [
    "df2.price.describe()"
   ]
  }
 ],
 "metadata": {
  "kernelspec": {
   "display_name": "Python 3 (ipykernel)",
   "language": "python",
   "name": "python3"
  },
  "language_info": {
   "codemirror_mode": {
    "name": "ipython",
    "version": 3
   },
   "file_extension": ".py",
   "mimetype": "text/x-python",
   "name": "python",
   "nbconvert_exporter": "python",
   "pygments_lexer": "ipython3",
   "version": "3.9.12"
  }
 },
 "nbformat": 4,
 "nbformat_minor": 5
}
